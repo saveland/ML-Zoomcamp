{
 "cells": [
  {
   "cell_type": "markdown",
   "metadata": {},
   "source": [
    "ML Zoomcamp 2024 - Homework #2"
   ]
  },
  {
   "cell_type": "code",
   "execution_count": 1,
   "metadata": {},
   "outputs": [
    {
     "name": "stdout",
     "output_type": "stream",
     "text": [
      "      ram  storage  screen  final_price\n",
      "0       8      512    15.6      1009.00\n",
      "1       8      256    15.6       299.00\n",
      "2       8      256    15.6       789.00\n",
      "3      16     1000    15.6      1199.00\n",
      "4      16      512    15.6       669.01\n",
      "...   ...      ...     ...          ...\n",
      "2155   16     1000    17.3      2699.99\n",
      "2156   16     1000    17.3      2899.99\n",
      "2157   32     1000    17.3      3399.99\n",
      "2158   16     1000    13.4      1899.99\n",
      "2159   16      256    13.4      1699.99\n",
      "\n",
      "[2160 rows x 4 columns]\n"
     ]
    }
   ],
   "source": [
    "import pandas as pd\n",
    "import numpy as np\n",
    "\n",
    "url = 'https://raw.githubusercontent.com/alexeygrigorev/datasets/master/laptops.csv'\n",
    "\n",
    "df = pd.read_csv(url)\n",
    "\n",
    "df.columns = df.columns.str.lower().str.replace(' ', '_')\n",
    "\n",
    "df_selected = df[['ram', 'storage', 'screen', 'final_price']]\n",
    "\n",
    "print(df_selected)"
   ]
  },
  {
   "cell_type": "markdown",
   "metadata": {},
   "source": [
    "Question 1. Missing Values"
   ]
  },
  {
   "cell_type": "code",
   "execution_count": null,
   "metadata": {},
   "outputs": [],
   "source": []
  }
 ],
 "metadata": {
  "kernelspec": {
   "display_name": "myenv",
   "language": "python",
   "name": "python3"
  },
  "language_info": {
   "codemirror_mode": {
    "name": "ipython",
    "version": 3
   },
   "file_extension": ".py",
   "mimetype": "text/x-python",
   "name": "python",
   "nbconvert_exporter": "python",
   "pygments_lexer": "ipython3",
   "version": "3.12.6"
  }
 },
 "nbformat": 4,
 "nbformat_minor": 2
}
